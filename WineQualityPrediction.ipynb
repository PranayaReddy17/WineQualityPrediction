{
  "nbformat": 4,
  "nbformat_minor": 0,
  "metadata": {
    "colab": {
      "name": "WineQualityPrediction.ipynb",
      "provenance": [],
      "collapsed_sections": []
    },
    "kernelspec": {
      "name": "python3",
      "display_name": "Python 3"
    },
    "language_info": {
      "name": "python"
    }
  },
  "cells": [
    {
      "cell_type": "markdown",
      "source": [
        "Importing the necessary libraries"
      ],
      "metadata": {
        "id": "Vu_eB5z0BDDJ"
      }
    },
    {
      "cell_type": "code",
      "execution_count": 59,
      "metadata": {
        "id": "1KJTmnWS7dr6"
      },
      "outputs": [],
      "source": [
        "import numpy as np\n",
        "import pandas as pd\n",
        "import matplotlib.pyplot as plt\n",
        "import random\n",
        "\n",
        "#Libraries to plot\n",
        "import seaborn as sn\n",
        "\n",
        "#Libraries to find the metrics\n",
        "from sklearn.metrics import confusion_matrix\n",
        "from sklearn.metrics import classification_report\n",
        "from sklearn.tree import DecisionTreeClassifier\n",
        "from sklearn.neighbors import KNeighborsClassifier \n",
        "from sklearn import metrics\n",
        "from statsmodels.stats.outliers_influence import variance_inflation_factor\n",
        "from statsmodels.tools.tools import add_constant"
      ]
    },
    {
      "cell_type": "markdown",
      "source": [
        "Defining the functions required for Logistic regression"
      ],
      "metadata": {
        "id": "-e_ZoAnUCPgF"
      }
    },
    {
      "cell_type": "markdown",
      "source": [
        "First we define the logistic function for the logistic regression which is \n",
        "![image.png](data:image/png;base64,iVBORw0KGgoAAAANSUhEUgAAAUMAAABVCAYAAADTy4Y1AAAFNklEQVR4nO3d626cMBCG4Y+q93/L9BcqIRg8Pg7j95EqVUl212B71me2fd93AcDi/sxOAAB4QDAEABEMAUASwRAAJBEMAUASwRAAJBEMAUASwRAAJBEMARhs26Zt22Yno4u/sxMAwLeowe+KliGApFUCoUTLEMCD89EF0QMjLUMAEMEQACQRDAFAEsEQACQRDAFAEsEQACQRDAFAEsEQACQRDAFAEsEQACQRDAFAEnuT0UnOPlYe2Q1PCIbo5rrJf6VN//geuslo7hr4rL8HZiAYorlroLsGPwIhPDJ3k4/uDQV6TXfdW8oCIshqGR7PPZg5ztP6sxmzst+D8xfh8a/kfXrxkg58U1bLcObAd6+W6L7vy7Zyrdf9lfu0cp72kqrv559HudfbbriS0QVtxOetVnlKA2HqNTm/H31vV8tTtOF2AmVUgfbW1eup5p5+KbCslKdox2UwHP3NvkLlKbmnX25hrZCnaCs7GFKo1tIiv1lPiC8xtwx7F+5ZrZHILYnR3ePzyoOZqxAi5ynaa7Idb+bMUs5nR5r5SlXsltdVGzxq07JansKHqmA4c+1fzt+Wps9j9+6p8t+1vka0iloHpNXyFL5kBcO7btb1Z+duUW2hy3n9XVrOn11yMMB5ndqTFgGmZCLD+rqSz5vZ4lopT+FPUcvwaQyqtEDUFMacAm9Nl8eWRCo9qcXGtRV85ljbKnkKP0LuTe5d6Ede++yA9GRk2iLlKXwqWmfoseCkulJRvB2J1YKlizyiOx09T+HLazA8twRThZKlCwC+zrTo+u3bmW/vfjxtmGdZCyIKc+z/6PGrWrlB5GkiIXpQipan9KB8uebXYzC0Ln6d7Qgc0caYztd197sen5cyOgBHytOvpz8683mGpX/TsxKNrigzCvXTmO0MI7ZlRs9T+NK9m3y3OLtlQc9tmXoKJCU8pH/UsqpV8hR5nspDy/xveoTXNdGWymPZIZHaepZKS0ml8VTJSocieuxX7nFfVsxT2Oz7/8dMnP/fUvKk65zC/1aA7wrs0/uWjFHmLPX5wla0JzVjhdZrytl62dqKeQq73j2BZt3kVNCzvofldS1bnLWvGS23kpfc02tLzdvYXdQ8xVzJYNirUNbymq4eUi2ymuGIHDMPaKj5G6CG6YFQ2W9aucF+xv5nb3uuLemxDC94ub4RVrzmL3s7pq53PnadTW7RdV6RtRJbu8KAJ71XnOQa9kCokpnlURV8hRbE6Hs62wp5GoGnfOoWDGsvblTl9ZQZpXKvYZWAGCFPV5IzbDYiL4e0DEsLZ+/K67XSXLsLT0q61OfXReM1T/FbThk8/uatLtxNKubUn7NhBzWUFs5z5W29iNhzhckNiDXLTLzfA6to1wPbBOKR/6XlYMhsMgUUeLZai7Z2xcnTe5bewy4tw1UyFKgRdajCouWKk9pVFWHOMwS+JFIgzLmW0q2gIxEMgQnu9n5/Ve18QCu193HYOkMA/VlnUL2Y3SqUCIYAnKiZNDlmkM/jhtYvBbrJAKZodTJS6qhA63sSDAG8qjlT807PE5ZcLa0BEMPTMXLRFrkzZgjglodJjZEIhgB+WS0QSgRDABdvgTBqoGTMEPgQy2NUn5QGui+uYcxFMASQJWqL8EAwBD6k5/OD7lp9K51ARTAE8MuKz5smGAL4YZXgd8VsMgCziBMpBEMAP+Q+dycagiEASe9nLJ6PB4vYlWbMEMCt1oczeEcwBCZIdTVnz+KmniMSOQgeujwdDwC+hjFDABDBEAAkEQwBQBLBEAAkSf8A4P1kFdAt3T4AAAAASUVORK5CYII=)\n",
        "\n",
        "where ![image.png](data:image/png;base64,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) is defined as mx+b where m and b are weights and bias.\n",
        "\n",
        "This function is also known as sigmoid function which returns the values between 0 and 1."
      ],
      "metadata": {
        "id": "Cgpjsf1zryrQ"
      }
    },
    {
      "cell_type": "code",
      "source": [
        "#first we define for mx+c which is a line\n",
        "def hypline(m,X,b):\n",
        "  return np.dot(m, X.T)+ b\n"
      ],
      "metadata": {
        "id": "BGnXyCa7mp85"
      },
      "execution_count": 60,
      "outputs": []
    },
    {
      "cell_type": "code",
      "source": [
        "#Now we define the logistic hypothesis function\n",
        "def regfunc(m,X,b):\n",
        "  hyp=hypline(m,X,b)\n",
        "  return 1/(1+np.exp(-(hyp)))"
      ],
      "metadata": {
        "id": "6ewTfNFIuHS9"
      },
      "execution_count": 61,
      "outputs": []
    },
    {
      "cell_type": "markdown",
      "source": [
        "The log likelihood for the maximising of a logistic function is\n",
        "\n",
        "     = ylog(h(x))+(1-y)log(1-h(x))\n",
        "\n",
        "Derivative of this we would get the cross entropy loss function which is\n",
        "\n",
        "    = -(y log(h(x) + (1-y) log(1-h(x)))\n",
        "\n",
        "where y is the actual value and h(x) is the predicted value."
      ],
      "metadata": {
        "id": "ENRAFs7UyekC"
      }
    },
    {
      "cell_type": "code",
      "source": [
        "def hyploss(m,X,b,Y):\n",
        "  r=regfunc(m,X,b)\n",
        "  p=0.0099 #when predicted value r is 0, then the log(0) tends to become undefined, so to avoid that, we added a small value p (So that it never becomes 0).\n",
        "  return np.mean(-(Y*np.log(r+p)+(1-Y)*np.log(1-r+p)))"
      ],
      "metadata": {
        "id": "qG2A1amSxUiA"
      },
      "execution_count": 62,
      "outputs": []
    },
    {
      "cell_type": "code",
      "source": [
        "def grad_m(m,X,b,Y):\n",
        "  k=regfunc(m,X,b)\n",
        "  return np.mean((k-Y).T*X, axis=0)"
      ],
      "metadata": {
        "id": "EJQOu3XR3Z3G"
      },
      "execution_count": 63,
      "outputs": []
    },
    {
      "cell_type": "code",
      "source": [
        "def grad_b(m,X,b,Y):\n",
        "  k=regfunc(m,X,b)\n",
        "  return np.mean(k-Y)"
      ],
      "metadata": {
        "id": "PhgTR0ge4DTk"
      },
      "execution_count": 64,
      "outputs": []
    },
    {
      "cell_type": "code",
      "source": [
        "def accuracy(m,X,b,Y):\n",
        "  Y_pred=regfunc(m,X,b)\n",
        "  Y_pred[Y_pred>=0.5]=1\n",
        "  Y_pred[Y_pred<0.5]=0\n",
        "  print(\"Confusion Matrix\")\n",
        "  cm = confusion_matrix(Y_pred[0],Y)\n",
        "  print(\"Classification Report\")\n",
        "  print(classification_report(Y,Y_pred[0],target_names=None))\n",
        "  print(cm)\n",
        "  co=len(Y_pred[Y_pred==Y])\n",
        "  return (co/len(Y.T))*100"
      ],
      "metadata": {
        "id": "5mOY6qom4h9r"
      },
      "execution_count": 65,
      "outputs": []
    },
    {
      "cell_type": "code",
      "source": [
        "def dfdata_minmax(df_data):\n",
        "    mm = list()\n",
        "    for i in range(len(df_data[0])):\n",
        "        col_values = [row[i] for row in df_data]\n",
        "        val_min = min(col_values)\n",
        "        val_max = max(col_values)\n",
        "        mm.append([val_min, val_max])\n",
        "    return mm"
      ],
      "metadata": {
        "id": "zdoHrV5gABwS"
      },
      "execution_count": 66,
      "outputs": []
    },
    {
      "cell_type": "code",
      "source": [
        "def normalize_df_data(df_data, mm):\n",
        "    for row in df_data:\n",
        "      k=len(row)\n",
        "      for i in range(k):\n",
        "        row[i] = (row[i] - mm[i][0]) / (mm[i][1] - mm[i][0])"
      ],
      "metadata": {
        "id": "-kYwIZcwAP9J"
      },
      "execution_count": 67,
      "outputs": []
    },
    {
      "cell_type": "code",
      "source": [
        "def errorfunc(X,Y):\n",
        "  error={}\n",
        "  m=np.random.randn(1,X.shape[1])\n",
        "  b=random.random()\n",
        "  l=7\n",
        "  for i in range(-3,4):\n",
        "    m=m-l*grad_m(m,X,b,Y)\n",
        "    b=b-l*grad_b(m,X,b,Y)\n",
        "    error[i]=hyploss(m,X,b,Y)\n",
        "  print(\"Accuracy of the data\")\n",
        "  print(accuracy(m,X,b,Y))\n",
        "\n",
        "  my_error=error.items()\n",
        "  my_error=sorted(my_error)\n",
        "  l,k =zip(*my_error)\n",
        "  plt.plot(l,k)\n",
        "  plt.show()"
      ],
      "metadata": {
        "id": "KHMme6wM53mB"
      },
      "execution_count": 68,
      "outputs": []
    },
    {
      "cell_type": "code",
      "source": [
        "def plot(df_data,columns):\n",
        "  for i in columns:\n",
        "    sn.displot(df_data[i])\n",
        "    qt = df_data[i].quantile(0.99)\n",
        "    df_data = df_data[df_data[i] < qt]\n",
        "    sn.displot(df_data[i])\n",
        "  return df_data"
      ],
      "metadata": {
        "id": "d5Axo53Rj56z"
      },
      "execution_count": 69,
      "outputs": []
    },
    {
      "cell_type": "markdown",
      "source": [
        "Loading the dataset"
      ],
      "metadata": {
        "id": "oyQYO8PyDF5a"
      }
    },
    {
      "cell_type": "code",
      "source": [
        "#reading the csv file using pandas\n",
        "df_data=pd.read_csv(\"/winequality-red.csv\")"
      ],
      "metadata": {
        "id": "xN4jp9ysmrjZ"
      },
      "execution_count": 70,
      "outputs": []
    },
    {
      "cell_type": "markdown",
      "source": [
        "Data Preprocessing"
      ],
      "metadata": {
        "id": "jbR-xsXQDORj"
      }
    },
    {
      "cell_type": "code",
      "source": [
        "#Printing the information of the dataset\n",
        "df_data.info()"
      ],
      "metadata": {
        "colab": {
          "base_uri": "https://localhost:8080/"
        },
        "id": "aBf2FXl-lbX7",
        "outputId": "9a3d310b-beea-406b-b04a-a0d07e28aec5"
      },
      "execution_count": 71,
      "outputs": [
        {
          "output_type": "stream",
          "name": "stdout",
          "text": [
            "<class 'pandas.core.frame.DataFrame'>\n",
            "RangeIndex: 1599 entries, 0 to 1598\n",
            "Data columns (total 12 columns):\n",
            " #   Column                Non-Null Count  Dtype  \n",
            "---  ------                --------------  -----  \n",
            " 0   fixed acidity         1599 non-null   float64\n",
            " 1   volatile acidity      1599 non-null   float64\n",
            " 2   citric acid           1599 non-null   float64\n",
            " 3   residual sugar        1599 non-null   float64\n",
            " 4   chlorides             1599 non-null   float64\n",
            " 5   free sulfur dioxide   1599 non-null   float64\n",
            " 6   total sulfur dioxide  1599 non-null   float64\n",
            " 7   density               1599 non-null   float64\n",
            " 8   pH                    1599 non-null   float64\n",
            " 9   sulphates             1599 non-null   float64\n",
            " 10  alcohol               1599 non-null   float64\n",
            " 11  quality               1599 non-null   int64  \n",
            "dtypes: float64(11), int64(1)\n",
            "memory usage: 150.0 KB\n"
          ]
        }
      ]
    },
    {
      "cell_type": "code",
      "source": [
        "#Describing all the attributes of the dataset\n",
        "df_data.describe()"
      ],
      "metadata": {
        "colab": {
          "base_uri": "https://localhost:8080/",
          "height": 399
        },
        "id": "8lo9UCNZlcSg",
        "outputId": "b94404b7-9458-4585-9e05-7f3396e4d0d7"
      },
      "execution_count": 72,
      "outputs": [
        {
          "output_type": "execute_result",
          "data": {
            "text/plain": [
              "       fixed acidity  volatile acidity  citric acid  residual sugar  \\\n",
              "count    1599.000000       1599.000000  1599.000000     1599.000000   \n",
              "mean        8.319637          0.527821     0.270976        2.538806   \n",
              "std         1.741096          0.179060     0.194801        1.409928   \n",
              "min         4.600000          0.120000     0.000000        0.900000   \n",
              "25%         7.100000          0.390000     0.090000        1.900000   \n",
              "50%         7.900000          0.520000     0.260000        2.200000   \n",
              "75%         9.200000          0.640000     0.420000        2.600000   \n",
              "max        15.900000          1.580000     1.000000       15.500000   \n",
              "\n",
              "         chlorides  free sulfur dioxide  total sulfur dioxide      density  \\\n",
              "count  1599.000000          1599.000000           1599.000000  1599.000000   \n",
              "mean      0.087467            15.874922             46.467792     0.996747   \n",
              "std       0.047065            10.460157             32.895324     0.001887   \n",
              "min       0.012000             1.000000              6.000000     0.990070   \n",
              "25%       0.070000             7.000000             22.000000     0.995600   \n",
              "50%       0.079000            14.000000             38.000000     0.996750   \n",
              "75%       0.090000            21.000000             62.000000     0.997835   \n",
              "max       0.611000            72.000000            289.000000     1.003690   \n",
              "\n",
              "                pH    sulphates      alcohol      quality  \n",
              "count  1599.000000  1599.000000  1599.000000  1599.000000  \n",
              "mean      3.311113     0.658149    10.422983     5.636023  \n",
              "std       0.154386     0.169507     1.065668     0.807569  \n",
              "min       2.740000     0.330000     8.400000     3.000000  \n",
              "25%       3.210000     0.550000     9.500000     5.000000  \n",
              "50%       3.310000     0.620000    10.200000     6.000000  \n",
              "75%       3.400000     0.730000    11.100000     6.000000  \n",
              "max       4.010000     2.000000    14.900000     8.000000  "
            ],
            "text/html": [
              "\n",
              "  <div id=\"df-83bbc4ac-4c7a-47eb-a043-0d1aeb4c74b7\">\n",
              "    <div class=\"colab-df-container\">\n",
              "      <div>\n",
              "<style scoped>\n",
              "    .dataframe tbody tr th:only-of-type {\n",
              "        vertical-align: middle;\n",
              "    }\n",
              "\n",
              "    .dataframe tbody tr th {\n",
              "        vertical-align: top;\n",
              "    }\n",
              "\n",
              "    .dataframe thead th {\n",
              "        text-align: right;\n",
              "    }\n",
              "</style>\n",
              "<table border=\"1\" class=\"dataframe\">\n",
              "  <thead>\n",
              "    <tr style=\"text-align: right;\">\n",
              "      <th></th>\n",
              "      <th>fixed acidity</th>\n",
              "      <th>volatile acidity</th>\n",
              "      <th>citric acid</th>\n",
              "      <th>residual sugar</th>\n",
              "      <th>chlorides</th>\n",
              "      <th>free sulfur dioxide</th>\n",
              "      <th>total sulfur dioxide</th>\n",
              "      <th>density</th>\n",
              "      <th>pH</th>\n",
              "      <th>sulphates</th>\n",
              "      <th>alcohol</th>\n",
              "      <th>quality</th>\n",
              "    </tr>\n",
              "  </thead>\n",
              "  <tbody>\n",
              "    <tr>\n",
              "      <th>count</th>\n",
              "      <td>1599.000000</td>\n",
              "      <td>1599.000000</td>\n",
              "      <td>1599.000000</td>\n",
              "      <td>1599.000000</td>\n",
              "      <td>1599.000000</td>\n",
              "      <td>1599.000000</td>\n",
              "      <td>1599.000000</td>\n",
              "      <td>1599.000000</td>\n",
              "      <td>1599.000000</td>\n",
              "      <td>1599.000000</td>\n",
              "      <td>1599.000000</td>\n",
              "      <td>1599.000000</td>\n",
              "    </tr>\n",
              "    <tr>\n",
              "      <th>mean</th>\n",
              "      <td>8.319637</td>\n",
              "      <td>0.527821</td>\n",
              "      <td>0.270976</td>\n",
              "      <td>2.538806</td>\n",
              "      <td>0.087467</td>\n",
              "      <td>15.874922</td>\n",
              "      <td>46.467792</td>\n",
              "      <td>0.996747</td>\n",
              "      <td>3.311113</td>\n",
              "      <td>0.658149</td>\n",
              "      <td>10.422983</td>\n",
              "      <td>5.636023</td>\n",
              "    </tr>\n",
              "    <tr>\n",
              "      <th>std</th>\n",
              "      <td>1.741096</td>\n",
              "      <td>0.179060</td>\n",
              "      <td>0.194801</td>\n",
              "      <td>1.409928</td>\n",
              "      <td>0.047065</td>\n",
              "      <td>10.460157</td>\n",
              "      <td>32.895324</td>\n",
              "      <td>0.001887</td>\n",
              "      <td>0.154386</td>\n",
              "      <td>0.169507</td>\n",
              "      <td>1.065668</td>\n",
              "      <td>0.807569</td>\n",
              "    </tr>\n",
              "    <tr>\n",
              "      <th>min</th>\n",
              "      <td>4.600000</td>\n",
              "      <td>0.120000</td>\n",
              "      <td>0.000000</td>\n",
              "      <td>0.900000</td>\n",
              "      <td>0.012000</td>\n",
              "      <td>1.000000</td>\n",
              "      <td>6.000000</td>\n",
              "      <td>0.990070</td>\n",
              "      <td>2.740000</td>\n",
              "      <td>0.330000</td>\n",
              "      <td>8.400000</td>\n",
              "      <td>3.000000</td>\n",
              "    </tr>\n",
              "    <tr>\n",
              "      <th>25%</th>\n",
              "      <td>7.100000</td>\n",
              "      <td>0.390000</td>\n",
              "      <td>0.090000</td>\n",
              "      <td>1.900000</td>\n",
              "      <td>0.070000</td>\n",
              "      <td>7.000000</td>\n",
              "      <td>22.000000</td>\n",
              "      <td>0.995600</td>\n",
              "      <td>3.210000</td>\n",
              "      <td>0.550000</td>\n",
              "      <td>9.500000</td>\n",
              "      <td>5.000000</td>\n",
              "    </tr>\n",
              "    <tr>\n",
              "      <th>50%</th>\n",
              "      <td>7.900000</td>\n",
              "      <td>0.520000</td>\n",
              "      <td>0.260000</td>\n",
              "      <td>2.200000</td>\n",
              "      <td>0.079000</td>\n",
              "      <td>14.000000</td>\n",
              "      <td>38.000000</td>\n",
              "      <td>0.996750</td>\n",
              "      <td>3.310000</td>\n",
              "      <td>0.620000</td>\n",
              "      <td>10.200000</td>\n",
              "      <td>6.000000</td>\n",
              "    </tr>\n",
              "    <tr>\n",
              "      <th>75%</th>\n",
              "      <td>9.200000</td>\n",
              "      <td>0.640000</td>\n",
              "      <td>0.420000</td>\n",
              "      <td>2.600000</td>\n",
              "      <td>0.090000</td>\n",
              "      <td>21.000000</td>\n",
              "      <td>62.000000</td>\n",
              "      <td>0.997835</td>\n",
              "      <td>3.400000</td>\n",
              "      <td>0.730000</td>\n",
              "      <td>11.100000</td>\n",
              "      <td>6.000000</td>\n",
              "    </tr>\n",
              "    <tr>\n",
              "      <th>max</th>\n",
              "      <td>15.900000</td>\n",
              "      <td>1.580000</td>\n",
              "      <td>1.000000</td>\n",
              "      <td>15.500000</td>\n",
              "      <td>0.611000</td>\n",
              "      <td>72.000000</td>\n",
              "      <td>289.000000</td>\n",
              "      <td>1.003690</td>\n",
              "      <td>4.010000</td>\n",
              "      <td>2.000000</td>\n",
              "      <td>14.900000</td>\n",
              "      <td>8.000000</td>\n",
              "    </tr>\n",
              "  </tbody>\n",
              "</table>\n",
              "</div>\n",
              "      <button class=\"colab-df-convert\" onclick=\"convertToInteractive('df-83bbc4ac-4c7a-47eb-a043-0d1aeb4c74b7')\"\n",
              "              title=\"Convert this dataframe to an interactive table.\"\n",
              "              style=\"display:none;\">\n",
              "        \n",
              "  <svg xmlns=\"http://www.w3.org/2000/svg\" height=\"24px\"viewBox=\"0 0 24 24\"\n",
              "       width=\"24px\">\n",
              "    <path d=\"M0 0h24v24H0V0z\" fill=\"none\"/>\n",
              "    <path d=\"M18.56 5.44l.94 2.06.94-2.06 2.06-.94-2.06-.94-.94-2.06-.94 2.06-2.06.94zm-11 1L8.5 8.5l.94-2.06 2.06-.94-2.06-.94L8.5 2.5l-.94 2.06-2.06.94zm10 10l.94 2.06.94-2.06 2.06-.94-2.06-.94-.94-2.06-.94 2.06-2.06.94z\"/><path d=\"M17.41 7.96l-1.37-1.37c-.4-.4-.92-.59-1.43-.59-.52 0-1.04.2-1.43.59L10.3 9.45l-7.72 7.72c-.78.78-.78 2.05 0 2.83L4 21.41c.39.39.9.59 1.41.59.51 0 1.02-.2 1.41-.59l7.78-7.78 2.81-2.81c.8-.78.8-2.07 0-2.86zM5.41 20L4 18.59l7.72-7.72 1.47 1.35L5.41 20z\"/>\n",
              "  </svg>\n",
              "      </button>\n",
              "      \n",
              "  <style>\n",
              "    .colab-df-container {\n",
              "      display:flex;\n",
              "      flex-wrap:wrap;\n",
              "      gap: 12px;\n",
              "    }\n",
              "\n",
              "    .colab-df-convert {\n",
              "      background-color: #E8F0FE;\n",
              "      border: none;\n",
              "      border-radius: 50%;\n",
              "      cursor: pointer;\n",
              "      display: none;\n",
              "      fill: #1967D2;\n",
              "      height: 32px;\n",
              "      padding: 0 0 0 0;\n",
              "      width: 32px;\n",
              "    }\n",
              "\n",
              "    .colab-df-convert:hover {\n",
              "      background-color: #E2EBFA;\n",
              "      box-shadow: 0px 1px 2px rgba(60, 64, 67, 0.3), 0px 1px 3px 1px rgba(60, 64, 67, 0.15);\n",
              "      fill: #174EA6;\n",
              "    }\n",
              "\n",
              "    [theme=dark] .colab-df-convert {\n",
              "      background-color: #3B4455;\n",
              "      fill: #D2E3FC;\n",
              "    }\n",
              "\n",
              "    [theme=dark] .colab-df-convert:hover {\n",
              "      background-color: #434B5C;\n",
              "      box-shadow: 0px 1px 3px 1px rgba(0, 0, 0, 0.15);\n",
              "      filter: drop-shadow(0px 1px 2px rgba(0, 0, 0, 0.3));\n",
              "      fill: #FFFFFF;\n",
              "    }\n",
              "  </style>\n",
              "\n",
              "      <script>\n",
              "        const buttonEl =\n",
              "          document.querySelector('#df-83bbc4ac-4c7a-47eb-a043-0d1aeb4c74b7 button.colab-df-convert');\n",
              "        buttonEl.style.display =\n",
              "          google.colab.kernel.accessAllowed ? 'block' : 'none';\n",
              "\n",
              "        async function convertToInteractive(key) {\n",
              "          const element = document.querySelector('#df-83bbc4ac-4c7a-47eb-a043-0d1aeb4c74b7');\n",
              "          const dataTable =\n",
              "            await google.colab.kernel.invokeFunction('convertToInteractive',\n",
              "                                                     [key], {});\n",
              "          if (!dataTable) return;\n",
              "\n",
              "          const docLinkHtml = 'Like what you see? Visit the ' +\n",
              "            '<a target=\"_blank\" href=https://colab.research.google.com/notebooks/data_table.ipynb>data table notebook</a>'\n",
              "            + ' to learn more about interactive tables.';\n",
              "          element.innerHTML = '';\n",
              "          dataTable['output_type'] = 'display_data';\n",
              "          await google.colab.output.renderOutput(dataTable, element);\n",
              "          const docLink = document.createElement('div');\n",
              "          docLink.innerHTML = docLinkHtml;\n",
              "          element.appendChild(docLink);\n",
              "        }\n",
              "      </script>\n",
              "    </div>\n",
              "  </div>\n",
              "  "
            ]
          },
          "metadata": {},
          "execution_count": 72
        }
      ]
    },
    {
      "cell_type": "code",
      "source": [
        ""
      ],
      "metadata": {
        "id": "fmVFRDUNDfqW"
      },
      "execution_count": 72,
      "outputs": []
    },
    {
      "cell_type": "code",
      "source": [
        "#For each column printing the plot for their count \n",
        "columns=['volatile acidity', 'citric acid',\n",
        "       'residual sugar', 'chlorides', 'free sulfur dioxide',\n",
        "       'total sulfur dioxide', 'density', 'pH', 'sulphates', 'alcohol','fixed acidity']\n",
        "print(\"Plots for each and every column\")\n",
        "df_data=plot(df_data,columns)"
      ],
      "metadata": {
        "colab": {
          "base_uri": "https://localhost:8080/",
          "height": 1000
        },
        "id": "bQ0h_l0Qj-vN",
        "outputId": "06fdabb5-4af7-42a7-ff92-0c8a1688bf64"
      },
      "execution_count": 73,
      "outputs": [
        {
          "output_type": "stream",
          "name": "stdout",
          "text": [
            "Plots for each and every column\n"
          ]
        },
        {
          "output_type": "stream",
          "name": "stderr",
          "text": [
            "/usr/local/lib/python3.7/dist-packages/seaborn/axisgrid.py:409: RuntimeWarning: More than 20 figures have been opened. Figures created through the pyplot interface (`matplotlib.pyplot.figure`) are retained until explicitly closed and may consume too much memory. (To control this warning, see the rcParam `figure.max_open_warning`).\n",
            "  fig = plt.figure(figsize=figsize)\n",
            "/usr/local/lib/python3.7/dist-packages/seaborn/axisgrid.py:409: RuntimeWarning: More than 20 figures have been opened. Figures created through the pyplot interface (`matplotlib.pyplot.figure`) are retained until explicitly closed and may consume too much memory. (To control this warning, see the rcParam `figure.max_open_warning`).\n",
            "  fig = plt.figure(figsize=figsize)\n"
          ]
        },
        {
          "output_type": "display_data",
          "data": {
            "text/plain": [
              "<Figure size 360x360 with 1 Axes>"
            ],
            "image/png": "[encoded data removed]"
          },
          "metadata": {
            "needs_background": "light"
          }
        },
        {
          "output_type": "display_data",
          "data": {
            "text/plain": [
              "<Figure size 360x360 with 1 Axes>"
            ],
            "image/png": "[encoded data removed]"
          },
          "metadata": {
            "needs_background": "light"
          }
        },
        {
          "output_type": "display_data",
          "data": {
            "text/plain": [
              "<Figure size 360x360 with 1 Axes>"
            ],
            "image/png": "[encoded data removed]"
          },
          "metadata": {
            "needs_background": "light"
          }
        },
        {
          "output_type": "display_data",
          "data": {
            "text/plain": [
              "<Figure size 360x360 with 1 Axes>"
            ],
            "image/png": "[encoded data removed]"
          },
          "metadata": {
            "needs_background": "light"
          }
        },
        {
          "output_type": "display_data",
          "data": {
            "text/plain": [
              "<Figure size 360x360 with 1 Axes>"
            ],
            "image/png": "[encoded data removed]"
          },
          "metadata": {
            "needs_background": "light"
          }
        },
        {
          "output_type": "display_data",
          "data": {
            "text/plain": [
              "<Figure size 360x360 with 1 Axes>"
            ],
            "image/png": "[encoded data removed]"
          },
          "metadata": {
            "needs_background": "light"
          }
        },
        {
          "output_type": "display_data",
          "data": {
            "text/plain": [
              "<Figure size 360x360 with 1 Axes>"
            ],
            "image/png": "[encoded data removed]"
          },
          "metadata": {
            "needs_background": "light"
          }
        },
        {
          "output_type": "display_data",
          "data": {
            "text/plain": [
              "<Figure size 360x360 with 1 Axes>"
            ],
            "image/png": "[encoded data removed]"
          },
          "metadata": {
            "needs_background": "light"
          }
        },
        {
          "output_type": "display_data",
          "data": {
            "text/plain": [
              "<Figure size 360x360 with 1 Axes>"
            ],
            "image/png": "[encoded data removed]"
          },
          "metadata": {
            "needs_background": "light"
          }
        },
        {
          "output_type": "display_data",
          "data": {
            "text/plain": [
              "<Figure size 360x360 with 1 Axes>"
            ],
            "image/png": "[encoded data removed]"
          },
          "metadata": {
            "needs_background": "light"
          }
        },
        {
          "output_type": "display_data",
          "data": {
            "text/plain": [
              "<Figure size 360x360 with 1 Axes>"
            ],
            "image/png": "[encoded data removed]"
          },
          "metadata": {
            "needs_background": "light"
          }
        },
        {
          "output_type": "display_data",
          "data": {
            "text/plain": [
              "<Figure size 360x360 with 1 Axes>"
            ],
            "image/png": "[encoded data removed]"
          },
          "metadata": {
            "needs_background": "light"
          }
        },
        {
          "output_type": "display_data",
          "data": {
            "text/plain": [
              "<Figure size 360x360 with 1 Axes>"
            ],
            "image/png": "[encoded data removed]"
          },
          "metadata": {
            "needs_background": "light"
          }
        },
        {
          "output_type": "display_data",
          "data": {
            "text/plain": [
              "<Figure size 360x360 with 1 Axes>"
            ],
            "image/png": "[encoded data removed]"
          },
          "metadata": {
            "needs_background": "light"
          }
        },
        {
          "output_type": "display_data",
          "data": {
            "text/plain": [
              "<Figure size 360x360 with 1 Axes>"
            ],
            "image/png": "[encoded data removed]"
          },
          "metadata": {
            "needs_background": "light"
          }
        },
        {
          "output_type": "display_data",
          "data": {
            "text/plain": [
              "<Figure size 360x360 with 1 Axes>"
            ],
            "image/png": "[encoded data removed]"
          },
          "metadata": {
            "needs_background": "light"
          }
        },
        {
          "output_type": "display_data",
          "data": {
            "text/plain": [
              "<Figure size 360x360 with 1 Axes>"
            ],
            "image/png": "[encoded data removed]"
          },
          "metadata": {
            "needs_background": "light"
          }
        },
        {
          "output_type": "display_data",
          "data": {
            "text/plain": [
              "<Figure size 360x360 with 1 Axes>"
            ],
            "image/png": "[encoded data removed]"
          },
          "metadata": {
            "needs_background": "light"
          }
        },
        {
          "output_type": "display_data",
          "data": {
            "text/plain": [
              "<Figure size 360x360 with 1 Axes>"
            ],
            "image/png": "[encoded data removed]"
          },
          "metadata": {
            "needs_background": "light"
          }
        },
        {
          "output_type": "display_data",
          "data": {
            "text/plain": [
              "<Figure size 360x360 with 1 Axes>"
            ],
            "image/png": "[encoded data removed]"
          },
          "metadata": {
            "needs_background": "light"
          }
        },
        {
          "output_type": "display_data",
          "data": {
            "text/plain": [
              "<Figure size 360x360 with 1 Axes>"
            ],
            "image/png": "[encoded data removed]"
          },
          "metadata": {
            "needs_background": "light"
          }
        },
        {
          "output_type": "display_data",
          "data": {
            "text/plain": [
              "<Figure size 360x360 with 1 Axes>"
            ],
            "image/png": "[encoded data removed]"
          },
          "metadata": {
            "needs_background": "light"
          }
        }
      ]
    },
    {
      "cell_type": "code",
      "source": [
        "#Finding the variance_inflation_factor for each and every attribute \n",
        "columns = df_data[[ 'volatile acidity', 'citric acid',\n",
        "       'residual sugar', 'chlorides', 'free sulfur dioxide',\n",
        "       'total sulfur dioxide', 'density', 'pH', 'sulphates', 'alcohol','fixed acidity',]]\n",
        "z = add_constant(columns)\n",
        "VIF = pd.DataFrame()\n",
        "VIF['VIF'] = [variance_inflation_factor(z.values,i) for i in range (z.shape[1])]\n",
        "VIF['features'] = z.columns\n",
        "VIF"
      ],
      "metadata": {
        "colab": {
          "base_uri": "https://localhost:8080/",
          "height": 480
        },
        "id": "Ybvf5ntqoGIZ",
        "outputId": "b06a1532-e299-4f0d-ec10-7c8fad980c5e"
      },
      "execution_count": 74,
      "outputs": [
        {
          "output_type": "stream",
          "name": "stderr",
          "text": [
            "/usr/local/lib/python3.7/dist-packages/statsmodels/tsa/tsatools.py:117: FutureWarning: In a future version of pandas all arguments of concat except for the argument 'objs' will be keyword-only\n",
            "  x = pd.concat(x[::order], 1)\n"
          ]
        },
        {
          "output_type": "execute_result",
          "data": {
            "text/plain": [
              "             VIF              features\n",
              "0   2.040531e+06                 const\n",
              "1   1.969338e+00      volatile acidity\n",
              "2   3.086508e+00           citric acid\n",
              "3   1.526052e+00        residual sugar\n",
              "4   1.148716e+00             chlorides\n",
              "5   2.007742e+00   free sulfur dioxide\n",
              "6   2.281380e+00  total sulfur dioxide\n",
              "7   5.819296e+00               density\n",
              "8   2.997420e+00                    pH\n",
              "9   1.322855e+00             sulphates\n",
              "10  3.133366e+00               alcohol\n",
              "11  6.849262e+00         fixed acidity"
            ],
            "text/html": [
              "\n",
              "  <div id=\"df-98bead5e-1cc8-4bbb-accf-6a9aaad5ca95\">\n",
              "    <div class=\"colab-df-container\">\n",
              "      <div>\n",
              "<style scoped>\n",
              "    .dataframe tbody tr th:only-of-type {\n",
              "        vertical-align: middle;\n",
              "    }\n",
              "\n",
              "    .dataframe tbody tr th {\n",
              "        vertical-align: top;\n",
              "    }\n",
              "\n",
              "    .dataframe thead th {\n",
              "        text-align: right;\n",
              "    }\n",
              "</style>\n",
              "<table border=\"1\" class=\"dataframe\">\n",
              "  <thead>\n",
              "    <tr style=\"text-align: right;\">\n",
              "      <th></th>\n",
              "      <th>VIF</th>\n",
              "      <th>features</th>\n",
              "    </tr>\n",
              "  </thead>\n",
              "  <tbody>\n",
              "    <tr>\n",
              "      <th>0</th>\n",
              "      <td>2.040531e+06</td>\n",
              "      <td>const</td>\n",
              "    </tr>\n",
              "    <tr>\n",
              "      <th>1</th>\n",
              "      <td>1.969338e+00</td>\n",
              "      <td>volatile acidity</td>\n",
              "    </tr>\n",
              "    <tr>\n",
              "      <th>2</th>\n",
              "      <td>3.086508e+00</td>\n",
              "      <td>citric acid</td>\n",
              "    </tr>\n",
              "    <tr>\n",
              "      <th>3</th>\n",
              "      <td>1.526052e+00</td>\n",
              "      <td>residual sugar</td>\n",
              "    </tr>\n",
              "    <tr>\n",
              "      <th>4</th>\n",
              "      <td>1.148716e+00</td>\n",
              "      <td>chlorides</td>\n",
              "    </tr>\n",
              "    <tr>\n",
              "      <th>5</th>\n",
              "      <td>2.007742e+00</td>\n",
              "      <td>free sulfur dioxide</td>\n",
              "    </tr>\n",
              "    <tr>\n",
              "      <th>6</th>\n",
              "      <td>2.281380e+00</td>\n",
              "      <td>total sulfur dioxide</td>\n",
              "    </tr>\n",
              "    <tr>\n",
              "      <th>7</th>\n",
              "      <td>5.819296e+00</td>\n",
              "      <td>density</td>\n",
              "    </tr>\n",
              "    <tr>\n",
              "      <th>8</th>\n",
              "      <td>2.997420e+00</td>\n",
              "      <td>pH</td>\n",
              "    </tr>\n",
              "    <tr>\n",
              "      <th>9</th>\n",
              "      <td>1.322855e+00</td>\n",
              "      <td>sulphates</td>\n",
              "    </tr>\n",
              "    <tr>\n",
              "      <th>10</th>\n",
              "      <td>3.133366e+00</td>\n",
              "      <td>alcohol</td>\n",
              "    </tr>\n",
              "    <tr>\n",
              "      <th>11</th>\n",
              "      <td>6.849262e+00</td>\n",
              "      <td>fixed acidity</td>\n",
              "    </tr>\n",
              "  </tbody>\n",
              "</table>\n",
              "</div>\n",
              "      <button class=\"colab-df-convert\" onclick=\"convertToInteractive('df-98bead5e-1cc8-4bbb-accf-6a9aaad5ca95')\"\n",
              "              title=\"Convert this dataframe to an interactive table.\"\n",
              "              style=\"display:none;\">\n",
              "        \n",
              "  <svg xmlns=\"http://www.w3.org/2000/svg\" height=\"24px\"viewBox=\"0 0 24 24\"\n",
              "       width=\"24px\">\n",
              "    <path d=\"M0 0h24v24H0V0z\" fill=\"none\"/>\n",
              "    <path d=\"M18.56 5.44l.94 2.06.94-2.06 2.06-.94-2.06-.94-.94-2.06-.94 2.06-2.06.94zm-11 1L8.5 8.5l.94-2.06 2.06-.94-2.06-.94L8.5 2.5l-.94 2.06-2.06.94zm10 10l.94 2.06.94-2.06 2.06-.94-2.06-.94-.94-2.06-.94 2.06-2.06.94z\"/><path d=\"M17.41 7.96l-1.37-1.37c-.4-.4-.92-.59-1.43-.59-.52 0-1.04.2-1.43.59L10.3 9.45l-7.72 7.72c-.78.78-.78 2.05 0 2.83L4 21.41c.39.39.9.59 1.41.59.51 0 1.02-.2 1.41-.59l7.78-7.78 2.81-2.81c.8-.78.8-2.07 0-2.86zM5.41 20L4 18.59l7.72-7.72 1.47 1.35L5.41 20z\"/>\n",
              "  </svg>\n",
              "      </button>\n",
              "      \n",
              "  <style>\n",
              "    .colab-df-container {\n",
              "      display:flex;\n",
              "      flex-wrap:wrap;\n",
              "      gap: 12px;\n",
              "    }\n",
              "\n",
              "    .colab-df-convert {\n",
              "      background-color: #E8F0FE;\n",
              "      border: none;\n",
              "      border-radius: 50%;\n",
              "      cursor: pointer;\n",
              "      display: none;\n",
              "      fill: #1967D2;\n",
              "      height: 32px;\n",
              "      padding: 0 0 0 0;\n",
              "      width: 32px;\n",
              "    }\n",
              "\n",
              "    .colab-df-convert:hover {\n",
              "      background-color: #E2EBFA;\n",
              "      box-shadow: 0px 1px 2px rgba(60, 64, 67, 0.3), 0px 1px 3px 1px rgba(60, 64, 67, 0.15);\n",
              "      fill: #174EA6;\n",
              "    }\n",
              "\n",
              "    [theme=dark] .colab-df-convert {\n",
              "      background-color: #3B4455;\n",
              "      fill: #D2E3FC;\n",
              "    }\n",
              "\n",
              "    [theme=dark] .colab-df-convert:hover {\n",
              "      background-color: #434B5C;\n",
              "      box-shadow: 0px 1px 3px 1px rgba(0, 0, 0, 0.15);\n",
              "      filter: drop-shadow(0px 1px 2px rgba(0, 0, 0, 0.3));\n",
              "      fill: #FFFFFF;\n",
              "    }\n",
              "  </style>\n",
              "\n",
              "      <script>\n",
              "        const buttonEl =\n",
              "          document.querySelector('#df-98bead5e-1cc8-4bbb-accf-6a9aaad5ca95 button.colab-df-convert');\n",
              "        buttonEl.style.display =\n",
              "          google.colab.kernel.accessAllowed ? 'block' : 'none';\n",
              "\n",
              "        async function convertToInteractive(key) {\n",
              "          const element = document.querySelector('#df-98bead5e-1cc8-4bbb-accf-6a9aaad5ca95');\n",
              "          const dataTable =\n",
              "            await google.colab.kernel.invokeFunction('convertToInteractive',\n",
              "                                                     [key], {});\n",
              "          if (!dataTable) return;\n",
              "\n",
              "          const docLinkHtml = 'Like what you see? Visit the ' +\n",
              "            '<a target=\"_blank\" href=https://colab.research.google.com/notebooks/data_table.ipynb>data table notebook</a>'\n",
              "            + ' to learn more about interactive tables.';\n",
              "          element.innerHTML = '';\n",
              "          dataTable['output_type'] = 'display_data';\n",
              "          await google.colab.output.renderOutput(dataTable, element);\n",
              "          const docLink = document.createElement('div');\n",
              "          docLink.innerHTML = docLinkHtml;\n",
              "          element.appendChild(docLink);\n",
              "        }\n",
              "      </script>\n",
              "    </div>\n",
              "  </div>\n",
              "  "
            ]
          },
          "metadata": {},
          "execution_count": 74
        }
      ]
    },
    {
      "cell_type": "code",
      "source": [
        "#Changing the target variable values to boolean \n",
        "predicted_by_quality=[]\n",
        "for i in df_data['quality']:\n",
        "  if i >6.5:\n",
        "    predicted_by_quality.append(1)\n",
        "  else:\n",
        "    predicted_by_quality.append(0)\n",
        "df_data['updated_quality']=predicted_by_quality\n",
        "df_data.drop('quality', axis = 1, inplace = True)"
      ],
      "metadata": {
        "id": "QF9XyU5zC6YW"
      },
      "execution_count": 75,
      "outputs": []
    },
    {
      "cell_type": "code",
      "source": [
        "h=(int)(df_data.shape[0]*0.7)\n",
        "training_data = df_data.iloc[:h]\n",
        "testing_data = df_data.iloc[h:]\n",
        "X_train=training_data.drop(['updated_quality'], axis=1)\n",
        "Y_train=training_data['updated_quality']\n",
        "\n",
        "X_test=testing_data.drop(['updated_quality'], axis=1)\n",
        "Y_test=testing_data['updated_quality']\n",
        "X_train = np.asarray(X_train)\n",
        "Y_train = np.asarray(Y_train)\n",
        "X_test = np.asarray(X_test)\n",
        "Y_test = np.asarray(Y_test)\n",
        "X_train_min_max = X_train.copy()\n",
        "normalize_df_data(X_train_min_max,dfdata_minmax(X_train_min_max))\n",
        "\n",
        "X_test_min_max = X_test.copy()\n",
        "normalize_df_data(X_test_min_max,dfdata_minmax(X_test_min_max))\n",
        "\n",
        "\n",
        "errorfunc(X_test_min_max,Y_test)"
      ],
      "metadata": {
        "id": "NYpgCsC1nRrm",
        "colab": {
          "base_uri": "https://localhost:8080/",
          "height": 650
        },
        "outputId": "79c69414-6a6e-4317-a184-796d8e508006"
      },
      "execution_count": 76,
      "outputs": [
        {
          "output_type": "stream",
          "name": "stderr",
          "text": [
            "/usr/local/lib/python3.7/dist-packages/sklearn/metrics/_classification.py:1318: UndefinedMetricWarning: Precision and F-score are ill-defined and being set to 0.0 in labels with no predicted samples. Use `zero_division` parameter to control this behavior.\n",
            "  _warn_prf(average, modifier, msg_start, len(result))\n",
            "/usr/local/lib/python3.7/dist-packages/sklearn/metrics/_classification.py:1318: UndefinedMetricWarning: Precision and F-score are ill-defined and being set to 0.0 in labels with no predicted samples. Use `zero_division` parameter to control this behavior.\n",
            "  _warn_prf(average, modifier, msg_start, len(result))\n",
            "/usr/local/lib/python3.7/dist-packages/sklearn/metrics/_classification.py:1318: UndefinedMetricWarning: Precision and F-score are ill-defined and being set to 0.0 in labels with no predicted samples. Use `zero_division` parameter to control this behavior.\n",
            "  _warn_prf(average, modifier, msg_start, len(result))\n"
          ]
        },
        {
          "output_type": "stream",
          "name": "stdout",
          "text": [
            "Accuracy of the data\n",
            "Confusion Matrix\n",
            "Classification Report\n",
            "              precision    recall  f1-score   support\n",
            "\n",
            "           0       0.91      1.00      0.95       386\n",
            "           1       0.00      0.00      0.00        40\n",
            "\n",
            "    accuracy                           0.91       426\n",
            "   macro avg       0.45      0.50      0.48       426\n",
            "weighted avg       0.82      0.91      0.86       426\n",
            "\n",
            "[[386  40]\n",
            " [  0   0]]\n",
            "90.61032863849765\n"
          ]
        },
        {
          "output_type": "display_data",
          "data": {
            "text/plain": [
              "<Figure size 432x288 with 1 Axes>"
            ],
            "image/png": "[encoded data removed]"
          },
          "metadata": {
            "needs_background": "light"
          }
        }
      ]
    },
    {
      "cell_type": "code",
      "source": [
        "dtc = DecisionTreeClassifier()\n",
        "dtc.fit(X_train,Y_train)\n",
        "ypred = dtc.predict(X_test)\n",
        "accuracy_dtc = metrics.accuracy_score(ypred,Y_test)\n",
        "accuracy_dtc"
      ],
      "metadata": {
        "colab": {
          "base_uri": "https://localhost:8080/"
        },
        "id": "1LN15gYOmh3c",
        "outputId": "81c891f2-8cc8-400b-d7b8-73361330fece"
      },
      "execution_count": 77,
      "outputs": [
        {
          "output_type": "execute_result",
          "data": {
            "text/plain": [
              "0.8098591549295775"
            ]
          },
          "metadata": {},
          "execution_count": 77
        }
      ]
    },
    {
      "cell_type": "code",
      "source": [
        "knn = KNeighborsClassifier()\n",
        "knn.fit(X_train,Y_train)\n",
        "ypred = knn.predict(X_test)\n",
        "accuracy_knn = metrics.accuracy_score(ypred,Y_test)\n",
        "accuracy_knn"
      ],
      "metadata": {
        "colab": {
          "base_uri": "https://localhost:8080/"
        },
        "id": "zU5FRd87nWeD",
        "outputId": "3a4651fe-3c6f-402a-9fe4-6dfa7105392d"
      },
      "execution_count": 78,
      "outputs": [
        {
          "output_type": "execute_result",
          "data": {
            "text/plain": [
              "0.8732394366197183"
            ]
          },
          "metadata": {},
          "execution_count": 78
        }
      ]
    }
  ]
}